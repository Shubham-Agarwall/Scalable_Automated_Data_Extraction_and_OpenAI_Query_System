{
 "cells": [
  {
   "cell_type": "code",
   "execution_count": 71,
   "id": "e73201d7-eac9-49a6-9aa0-ca77840575a5",
   "metadata": {},
   "outputs": [],
   "source": [
    "#FINALFINAL\n",
    "\n",
    "\n",
    "from diagrams import Diagram, Cluster\n",
    "from diagrams.gcp.storage import Storage\n",
    "from diagrams.onprem.workflow import Airflow\n",
    "from diagrams.onprem.client import User\n",
    "from diagrams.custom import Custom\n",
    "from diagrams.programming.framework import Fastapi\n",
    "\n",
    "# Local paths to the logos\n",
    "hugging_face_icon = r\"C:\\SEM_3\\Big Data\\Assignement_2\\icons\\Hugging face logo.png\"\n",
    "openai_icon = r\"C:\\SEM_3\\Big Data\\Assignement_2\\icons\\Open AI logo.png\"\n",
    "streamlit_icon = r\"C:\\SEM_3\\Big Data\\Assignement_2\\icons\\Streamlit.png\"\n",
    "\n",
    "with Diagram(\"Architecture Diagram with Transparent Docker Containers and Additional Connection\", show=True):\n",
    "\n",
    "    # User interacting with Streamlit App\n",
    "    user = User(\"User\")\n",
    "\n",
    "    # Hugging Face positioned outside of GCP Environment\n",
    "    hugging_face = Custom(\"Hugging Face\", hugging_face_icon)\n",
    "\n",
    "    # GCP Environment up to GCP Storage (Post Airflow)\n",
    "    with Cluster(\"GCP Environment\"):\n",
    "        gcp_storage_initial = Storage(\"GCP Storage (Initial)\")\n",
    "        with Cluster(\"Docker Container for Airflow\", graph_attr={\"style\": \"filled\", \"fillcolor\": \"transparent\"}):\n",
    "            airflow = Airflow(\"Airflow\")\n",
    "        gcp_storage_post_airflow = Storage(\"GCP Storage (Post Airflow)\")\n",
    "\n",
    "    # FastAPI and Streamlit inside Docker containers with transparent color\n",
    "    with Cluster(\"Docker Container for FastAPI\", graph_attr={\"style\": \"filled\", \"fillcolor\": \"transparent\"}):\n",
    "        fastapi_service = Fastapi(\"FastAPI\")\n",
    "    \n",
    "    with Cluster(\"Docker Container for Streamlit\", graph_attr={\"style\": \"filled\", \"fillcolor\": \"transparent\"}):\n",
    "        streamlit_app = Custom(\"Streamlit\", streamlit_icon)\n",
    "\n",
    "    # OpenAI service outside Docker\n",
    "    openai_service = Custom(\"OpenAI\", openai_icon)\n",
    "\n",
    "    # Workflow connections\n",
    "    hugging_face >> gcp_storage_initial >> airflow >> gcp_storage_post_airflow\n",
    "    gcp_storage_post_airflow >> fastapi_service \n",
    "\n",
    "    fastapi_service >> gcp_storage_post_airflow  \n",
    "\n",
    "    fastapi_service >> streamlit_app  \n",
    "    fastapi_service << streamlit_app  \n",
    "\n",
    "    streamlit_app >> openai_service  \n",
    "    openai_service >> streamlit_app  \n",
    "    streamlit_app >> user  \n",
    "\n",
    "    # Additional interactions\n",
    "    streamlit_app << user \n"
   ]
  },
  {
   "cell_type": "code",
   "execution_count": null,
   "id": "82dc5cbe-c80a-483f-b7a2-4aa0ab4d1d7c",
   "metadata": {},
   "outputs": [],
   "source": []
  }
 ],
 "metadata": {
  "kernelspec": {
   "display_name": "Python 3 (ipykernel)",
   "language": "python",
   "name": "python3"
  },
  "language_info": {
   "codemirror_mode": {
    "name": "ipython",
    "version": 3
   },
   "file_extension": ".py",
   "mimetype": "text/x-python",
   "name": "python",
   "nbconvert_exporter": "python",
   "pygments_lexer": "ipython3",
   "version": "3.10.5"
  }
 },
 "nbformat": 4,
 "nbformat_minor": 5
}
